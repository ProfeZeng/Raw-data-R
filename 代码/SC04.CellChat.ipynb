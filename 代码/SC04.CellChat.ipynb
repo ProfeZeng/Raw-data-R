{
 "cells": [
  {
   "cell_type": "code",
   "execution_count": 1,
   "metadata": {},
   "outputs": [],
   "source": [
    "from pathlib import Path\n",
    "import warnings\n",
    "\n",
    "import numpy as np\n",
    "import pandas as pd\n",
    "import anndata\n",
    "# import scanpy as sc"
   ]
  },
  {
   "cell_type": "code",
   "execution_count": 2,
   "metadata": {},
   "outputs": [],
   "source": [
    "warnings.filterwarnings(action=\"ignore\")\n",
    "OUTPUT_DIR = \"output/SC04.CellPhoneDB\"\n",
    "Path(OUTPUT_DIR).mkdir(parents=True,exist_ok=True)"
   ]
  },
  {
   "attachments": {},
   "cell_type": "markdown",
   "metadata": {},
   "source": [
    "## input data file path"
   ]
  },
  {
   "cell_type": "code",
   "execution_count": null,
   "metadata": {},
   "outputs": [],
   "source": [
    "CellPhoneDB_V4 = 'data/cellphonedb.zip'\n",
    "meta_file_path = 'output/SC04.CellPhoneDB/meta_file.csv'\n",
    "counts_file_path = \"output/SC04.CellPhoneDB/adata.h5ad\"\n",
    "n_jobs=8"
   ]
  },
  {
   "cell_type": "code",
   "execution_count": 3,
   "metadata": {},
   "outputs": [],
   "source": [
    "adata = anndata.read(\"output/SC02.score/adata.h5ad\")"
   ]
  },
  {
   "cell_type": "code",
   "execution_count": 8,
   "metadata": {},
   "outputs": [],
   "source": [
    "Low = adata[adata.obs.CR_Score_Group==\"Low\"]\n",
    "Low.copy().T.to_df().reset_index().to_feather(f\"{OUTPUT_DIR}/Low.arrow\")"
   ]
  },
  {
   "cell_type": "code",
   "execution_count": 7,
   "metadata": {},
   "outputs": [],
   "source": [
    "meta_file = pd.DataFrame({'Cell':Low.obs_names,'CellType':Low.obs.CellType})\n",
    "meta_file.to_csv(\"output/SC04.CellPhoneDB/Low.csv\",index=False)"
   ]
  },
  {
   "cell_type": "code",
   "execution_count": 9,
   "metadata": {},
   "outputs": [],
   "source": [
    "Low = adata[adata.obs.CR_Score_Group==\"High\"]\n",
    "Low.copy().T.to_df().reset_index().to_feather(f\"{OUTPUT_DIR}/High.arrow\")\n",
    "meta_file = pd.DataFrame({'Cell':Low.obs_names,'CellType':Low.obs.CellType})\n",
    "meta_file.to_csv(\"output/SC04.CellPhoneDB/High.csv\",index=False)"
   ]
  },
  {
   "cell_type": "code",
   "execution_count": null,
   "metadata": {},
   "outputs": [],
   "source": [
    "\n",
    "\n",
    "Low.write_h5ad(\"output/SC04.CellPhoneDB/Low.h5ad\",compression='lzf')\n",
    "meta_file = pd.DataFrame({'Cell':Low.obs.index,'CellType':Low.obs.CellType})\n",
    "meta_file.to_csv(\"output/SC04.CellPhoneDB/Low.csv\",index=False)\n",
    "del Low,meta_file"
   ]
  },
  {
   "cell_type": "code",
   "execution_count": null,
   "metadata": {},
   "outputs": [],
   "source": [
    "cpdb(adata[adata.obs.CR_Score_Group==\"Low\"],database='data/cellphonedb.zip',cell_type=\"CellType\",cpdb_suffix=\"Low\",output_dir=OUTPUT_DIR)"
   ]
  },
  {
   "cell_type": "code",
   "execution_count": null,
   "metadata": {},
   "outputs": [],
   "source": [
    "cpdb(adata[adata.obs.CR_Score_Group==\"High\"],database='data/cellphonedb.zip',cell_type=\"CellType\",cpdb_suffix=\"High\",output_dir=OUTPUT_DIR)"
   ]
  },
  {
   "cell_type": "code",
   "execution_count": null,
   "metadata": {},
   "outputs": [],
   "source": [
    "def cpdb(adata,database,cell_type=\"CellType\",cpdb_suffix=\"_\",microenvs_file_path=None,n_jobs=8,output_dir=\".\"):\n",
    "    _a=adata\n",
    "    _a.write_h5ad(\"_a.h5ad\")\n",
    "    meta_file = pd.DataFrame({'Cell':_a.obs.index,'CellType':_a.obs.CellType})\n",
    "    meta_file.to_csv(\"_a.csv\",index=False)\n",
    "    from cellphonedb.src.core.methods import cpdb_statistical_analysis_method\n",
    "    deconvoluted, means, pvalues, significant_means = cpdb_statistical_analysis_method.call(\n",
    "        cpdb_file_path = database,                 # mandatory: CellPhoneDB database zip file.\n",
    "        meta_file_path = \"_a.csv\",                 # mandatory: tsv file defining barcodes to cell label.\n",
    "        counts_file_path = \"_a.h5ad\",             # mandatory: normalized count matrix.\n",
    "        counts_data = 'hgnc_symbol',                     # defines the gene annotation in counts matrix.\n",
    "        microenvs_file_path = microenvs_file_path,                      # optional (default: None): defines cells per microenvironment.\n",
    "        iterations = 1000,                               # denotes the number of shufflings performed in the analysis.\n",
    "        threshold = 0.1,                                 # defines the min % of cells expressing a gene for this to be employed in the analysis.\n",
    "        threads = n_jobs,                                     # number of threads to use in the analysis.\n",
    "        debug_seed = 42,                                 # debug randome seed. To disable >=0.\n",
    "        result_precision = 3,                            # Sets the rounding for the mean values in significan_means.\n",
    "        pvalue = 0.05,                                   # P-value threshold to employ for significance.\n",
    "        subsampling = False,                             # To enable subsampling the data (geometri sketching).\n",
    "        subsampling_log = False,                         # (mandatory) enable subsampling log1p for non log-transformed data inputs.\n",
    "        subsampling_num_pc = 100,                        # Number of componets to subsample via geometric skectching (dafault: 100).\n",
    "        subsampling_num_cells = 1000,                    # Number of cells to subsample (integer) (default: 1/3 of the dataset).\n",
    "        separator = '|',                                 # Sets the string to employ to separate cells in the results dataframes \"cellA|CellB\".\n",
    "        debug = False,                                   # Saves all intermediate tables employed during the analysis in pkl format.\n",
    "        output_path = output_dir,                          # Path to save results.\n",
    "        output_suffix = cpdb_suffix                            # Replaces the timestamp in the output files by a user defined string in the  (default: None).\n",
    "        )\n",
    "    from pathlib import Path\n",
    "    Path(\"_a.h5ad\").unlink()\n",
    "    Path(\"_a.csv\").unlink()"
   ]
  },
  {
   "cell_type": "code",
   "execution_count": null,
   "metadata": {},
   "outputs": [],
   "source": [
    "adata.raw.to_adata().write_h5ad(counts_file_path,compression='lzf')"
   ]
  },
  {
   "attachments": {},
   "cell_type": "markdown",
   "metadata": {},
   "source": [
    "## 可视化"
   ]
  },
  {
   "cell_type": "code",
   "execution_count": null,
   "metadata": {},
   "outputs": [],
   "source": [
    "import matplotlib.pyplot as plt\n",
    "import ktplotspy as kpy"
   ]
  },
  {
   "cell_type": "code",
   "execution_count": null,
   "metadata": {},
   "outputs": [],
   "source": [
    "adata=anndata.read(counts_file_path)"
   ]
  },
  {
   "cell_type": "code",
   "execution_count": null,
   "metadata": {},
   "outputs": [],
   "source": [
    "adata.obs.CellType.cat.categories"
   ]
  },
  {
   "cell_type": "code",
   "execution_count": null,
   "metadata": {},
   "outputs": [],
   "source": [
    "# 读取cellphonedb的输出文件\n",
    "i=\"Low\"\n",
    "means = pd.read_csv(f'{OUTPUT_DIR}/statistical_analysis_means_{i}.txt',sep='\\t')\n",
    "pvals = pd.read_csv(f'{OUTPUT_DIR}/statistical_analysis_pvalues_{i}.txt',sep='\\t')\n",
    "decon = pd.read_csv(f'{OUTPUT_DIR}/statistical_analysis_deconvoluted_{i}.txt',sep='\\t')\n",
    "p = kpy.plot_cpdb(\n",
    "    adata=adata[adata.obs.CR_Score_Group==\"High\"],\n",
    "    cell_type1=\"Hepatocytes\",\n",
    "    cell_type2=\".\", # this means all cell-types\n",
    "    means=means,\n",
    "    pvals=pvals\n",
    "    # ,max_size=8,\n",
    "    # max_highlight_size=2\n",
    "    ,keep_significant_only=True\n",
    "    ,highlight_size=1\n",
    "    ,celltype_key=\"CellType\"\n",
    "    # ,genes=[\"CXCL12\", \"CXCR4\"]\n",
    "    # ,gene_family=\"chemokines\"\n",
    "    ,figsize = (10,10),\n",
    "    title = \"\"\n",
    "    )\n",
    "p.save(f\"{OUTPUT_DIR}/cpdb_dotplot_{i}.pdf\",limitsize=False)"
   ]
  },
  {
   "cell_type": "code",
   "execution_count": null,
   "metadata": {},
   "outputs": [],
   "source": [
    "kpy.plot_cpdb_chord(\n",
    "    adata=adata,\n",
    "    cell_type1=\"B Cells\",\n",
    "    cell_type2=\".\",\n",
    "    means=means,\n",
    "    pvals=pvals,\n",
    "    deconvoluted=decon,\n",
    "    scale_lw=100,\n",
    "    celltype_key=\"CellType\"\n",
    "    # ,genes=[\"ADGRB1\"]\n",
    "    # ,edge_cmap=plt.cm.coolwarm # 弦的颜色\n",
    "    ,figsize=(6,6)\n",
    "    );\n",
    "plt.savefig(f\"{OUTPUT_DIR}/cpdb_chord.pdf\",bbox_inches=\"tight\");"
   ]
  }
 ],
 "metadata": {
  "kernelspec": {
   "display_name": "cpdb",
   "language": "python",
   "name": "python3"
  },
  "language_info": {
   "codemirror_mode": {
    "name": "ipython",
    "version": 3
   },
   "file_extension": ".py",
   "mimetype": "text/x-python",
   "name": "python",
   "nbconvert_exporter": "python",
   "pygments_lexer": "ipython3",
   "version": "3.10.10"
  },
  "orig_nbformat": 4
 },
 "nbformat": 4,
 "nbformat_minor": 2
}
