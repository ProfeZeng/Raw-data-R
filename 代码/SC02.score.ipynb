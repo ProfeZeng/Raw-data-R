{
 "cells": [
  {
   "cell_type": "code",
   "execution_count": 1,
   "metadata": {},
   "outputs": [],
   "source": [
    "from pathlib import Path\n",
    "import re\n",
    "import warnings\n",
    "import itertools\n",
    "\n",
    "import matplotlib.pyplot as plt\n",
    "import matplotlib as mpl\n",
    "import numpy as np\n",
    "import pandas as pd\n",
    "import scanpy as sc\n",
    "import seaborn as sns\n",
    "from scipy.sparse import csr_matrix\n",
    "import scipy.stats as spss\n",
    "import matplotlib_venn\n",
    "\n",
    "import bioquest as bq\n",
    "import sckit as sk"
   ]
  },
  {
   "cell_type": "code",
   "execution_count": 2,
   "metadata": {},
   "outputs": [],
   "source": [
    "warnings.filterwarnings(action=\"ignore\")\n",
    "OUTPUT_DIR = \"output/SC02.score\"\n",
    "Path(OUTPUT_DIR).mkdir(parents=True,exist_ok=True)\n",
    "export = sk.export(formats=('pdf',),od=OUTPUT_DIR)"
   ]
  },
  {
   "cell_type": "code",
   "execution_count": null,
   "metadata": {},
   "outputs": [],
   "source": [
    "adata = sc.read_h5ad(\"output/SC01.pp/adata.h5ad\")"
   ]
  },
  {
   "attachments": {},
   "cell_type": "markdown",
   "metadata": {},
   "source": [
    "## SCORE"
   ]
  },
  {
   "cell_type": "code",
   "execution_count": null,
   "metadata": {},
   "outputs": [],
   "source": [
    "CR = pd.read_csv(\"data/Circadian Clock pathcards.txt\",index_col=0).index"
   ]
  },
  {
   "cell_type": "code",
   "execution_count": null,
   "metadata": {},
   "outputs": [],
   "source": [
    "sk.aucell(adata,score_name=\"CR_Score\",gene_list=CR)"
   ]
  },
  {
   "cell_type": "code",
   "execution_count": 38,
   "metadata": {},
   "outputs": [],
   "source": [
    "sc.pl.umap(adata,color=\"CR_Score\",show=False)\n",
    "export(\"UMAP_CR_Score\");"
   ]
  },
  {
   "attachments": {},
   "cell_type": "markdown",
   "metadata": {},
   "source": [
    "## DEG"
   ]
  },
  {
   "cell_type": "code",
   "execution_count": null,
   "metadata": {},
   "outputs": [],
   "source": [
    "md = adata.obs[\"CR_Score\"].median()\n",
    "adata.obs[\"CR_Score_Group\"] = adata.obs[\"CR_Score\"].apply(lambda x: \"High\" if x > md else \"Low\")"
   ]
  },
  {
   "cell_type": "code",
   "execution_count": 39,
   "metadata": {},
   "outputs": [],
   "source": [
    "sc.pl.umap(adata,color=\"CR_Score_Group\",show=False,palette=\"Set2\")\n",
    "export(\"UMAP_CR_Group\");"
   ]
  },
  {
   "cell_type": "code",
   "execution_count": null,
   "metadata": {},
   "outputs": [],
   "source": [
    "adata.uns['log1p']={\"base\": None}\n",
    "sk.deg(adata,groupby=\"CR_Score_Group\",rank_name=\"CR_Score_Group\")"
   ]
  },
  {
   "cell_type": "code",
   "execution_count": null,
   "metadata": {},
   "outputs": [],
   "source": [
    "df=sk.deg_df(adata,rank_name=\"CR_Score_Group\")"
   ]
  },
  {
   "cell_type": "code",
   "execution_count": null,
   "metadata": {},
   "outputs": [],
   "source": [
    "High=bq.tl.subset(df,{\"Identy\":['High']})\n",
    "High.to_csv(f\"{OUTPUT_DIR}/CR_Score_Group_DEG_all.csv\")\n",
    "High=bq.tl.deg_siglabel(High,lfc='LogFC',padj=\"Padj\",lfc_thr=(0.585, 0.585),pv_thr=(0.05, 0.05))\n",
    "High.to_csv(f\"{OUTPUT_DIR}/CR_Score_Group_DEG_sig.csv\")"
   ]
  },
  {
   "attachments": {},
   "cell_type": "markdown",
   "metadata": {},
   "source": [
    "## enrich"
   ]
  },
  {
   "cell_type": "code",
   "execution_count": null,
   "metadata": {},
   "outputs": [],
   "source": [
    "def enrich(gene_list,\n",
    "           output_dir=None,\n",
    "           fname=None,\n",
    "           gene_sets=None,\n",
    "           organism='human',\n",
    "           pvalue_threshold=1.0,\n",
    "           figsize=(6, 10),\n",
    "           top_term=6,\n",
    "           dotsize=5,\n",
    "           ):\n",
    "    import gseapy\n",
    "    if gene_sets is None:\n",
    "        gene_sets = {\"GO_Biological_Process_2021\": \"GOBP\",\n",
    "                     \"GO_Molecular_Function_2021\": \"GOMF\",\n",
    "                     \"GO_Cellular_Component_2021\": \"GOCC\",\n",
    "                     \"KEGG_{}\".format(\"2019_Mouse\" if organism == \"mouse\" else \"2021_Human\"): \"KEGG\"\n",
    "                     }\n",
    "    enr = gseapy.enrichr(\n",
    "        gene_list=[x.upper() for x in gene_list],\n",
    "        gene_sets=list(gene_sets.keys()),\n",
    "        organism=organism,\n",
    "        cutoff=pvalue_threshold\n",
    "    )\n",
    "    res = enr.results.replace(gene_sets)\n",
    "    res.loc[:, \"Term\"] = bq.st.removes(string=res.Term, pattern=r\"\\(.+\\)\")\n",
    "    ax = gseapy.dotplot(res,\n",
    "                        column=\"Adjusted P-value\",\n",
    "                        x='Gene_set',  # set x axis, so you could do a multi-sample/library comparsion\n",
    "                        size=dotsize,\n",
    "                        top_term=top_term,\n",
    "                        figsize=figsize,\n",
    "                        title='',\n",
    "                        xticklabels_rot=45,  # rotate xtick labels\n",
    "                        show_ring=False,  # set to False to revmove outer ring\n",
    "                        marker='o',\n",
    "                        )\n",
    "    ax.set_xlabel(xlabel=\"\")\n",
    "    if fname:\n",
    "        import matplotlib.pyplot as plt\n",
    "        plt.savefig(f\"{output_dir}/{fname}_enrich.pdf\",\n",
    "                    bbox_inches='tight', dpi=300)\n",
    "        res.to_csv(f\"{output_dir}/{fname}_enrich.csv\", index=False)\n"
   ]
  },
  {
   "cell_type": "code",
   "execution_count": null,
   "metadata": {},
   "outputs": [],
   "source": [
    "deg_df = pd.read_csv(f\"{OUTPUT_DIR}/CR_Score_Group_DEG_all.csv\", index_col=0)\n",
    "up = bq.tl.subset(deg_df, {\"LogFC\": \"x>0.585\", \"Padj\": \"x<0.05\"})\n",
    "enrich(gene_list=up.index, output_dir=OUTPUT_DIR,\n",
    "       fname=\"CR_Score_Group_UP\", organism=\"human\")"
   ]
  },
  {
   "cell_type": "code",
   "execution_count": null,
   "metadata": {},
   "outputs": [],
   "source": [
    "deg_df = pd.read_csv(f\"{OUTPUT_DIR}/CR_Score_Group_DEG_all.csv\", index_col=0)\n",
    "down = bq.tl.subset(deg_df, {\"LogFC\": \"x<-0.585\", \"Padj\": \"x<0.05\"})\n",
    "enrich(gene_list=down.index, output_dir=OUTPUT_DIR,\n",
    "       fname=\"CR_Score_Group_Down\", organism=\"human\")"
   ]
  }
 ],
 "metadata": {
  "kernelspec": {
   "display_name": "SC",
   "language": "python",
   "name": "python3"
  },
  "language_info": {
   "codemirror_mode": {
    "name": "ipython",
    "version": 3
   },
   "file_extension": ".py",
   "mimetype": "text/x-python",
   "name": "python",
   "nbconvert_exporter": "python",
   "pygments_lexer": "ipython3",
   "version": "3.10.10"
  },
  "orig_nbformat": 4
 },
 "nbformat": 4,
 "nbformat_minor": 2
}
