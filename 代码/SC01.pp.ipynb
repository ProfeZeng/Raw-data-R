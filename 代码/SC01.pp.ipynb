{
 "cells": [
  {
   "cell_type": "code",
   "execution_count": null,
   "metadata": {},
   "outputs": [],
   "source": [
    "from pathlib import Path\n",
    "import re\n",
    "import warnings\n",
    "from typing import Counter\n",
    "\n",
    "import matplotlib.pyplot as plt\n",
    "import numpy as np\n",
    "import pandas as pd\n",
    "import datatable as dt\n",
    "import scanpy as sc\n",
    "import seaborn as sns\n",
    "\n",
    "import bioquest as bq\n",
    "import sckit as sk"
   ]
  },
  {
   "cell_type": "code",
   "execution_count": null,
   "metadata": {},
   "outputs": [],
   "source": [
    "warnings.filterwarnings(action=\"ignore\")\n",
    "OUTPUT_DIR = \"output/SC01.pp\"\n",
    "Path(OUTPUT_DIR).mkdir(parents=True,exist_ok=True)\n",
    "export = sk.export(formats=('pdf',),od=OUTPUT_DIR)"
   ]
  },
  {
   "cell_type": "code",
   "execution_count": null,
   "metadata": {},
   "outputs": [],
   "source": [
    "adata=sc.read(\"GSE156625_HCCscanpyobj.h5ad\")\n",
    "adata=adata[adata.obs.NormalvsTumor==\"T\"]"
   ]
  },
  {
   "cell_type": "code",
   "execution_count": 10,
   "metadata": {},
   "outputs": [
    {
     "name": "stdout",
     "output_type": "stream",
     "text": [
      "\n",
      "new_cluster_names ='''\n",
      "0,\n",
      "1,\n",
      "2,\n",
      "3,\n",
      "4,\n",
      "5,\n",
      "6,\n",
      "7,\n",
      "8,\n",
      "9,\n",
      "10,\n",
      "11,\n",
      "12,\n",
      "13,\n",
      "14,\n",
      "15,\n",
      "16,\n",
      "17,\n",
      "18,\n",
      "19,\n",
      "20,\n",
      "21,\n",
      "22,\n",
      "23,\n",
      "24,\n",
      "25,\n",
      "26,\n",
      "27,\n",
      "28,\n",
      "'''\n",
      "\n"
     ]
    }
   ],
   "source": [
    "sk.label_helper(len(adata.obs.louvain.values.unique())-1)"
   ]
  },
  {
   "cell_type": "code",
   "execution_count": 11,
   "metadata": {},
   "outputs": [],
   "source": [
    "new_cluster_names ='''\n",
    "0,CD4+ Cells\n",
    "1,Nk Cells\n",
    "2,Endothelial Cells\n",
    "3,CD8+ Cells\n",
    "4,CD8+ Cells\n",
    "5,CD4+ Cells\n",
    "6,Endothelial Cells\n",
    "7,Hepatocytes\n",
    "8,Myeloid\n",
    "9,Nk Cells\n",
    "10,Myeloid\n",
    "11,Hepatocytes\n",
    "12,Tregs\n",
    "13,Fibroblasts\n",
    "14,Hepatocytes\n",
    "15,Nk Cells\n",
    "16,Hepatocytes\n",
    "17,Endothelial Cells\n",
    "18,B Cells\n",
    "19,Myeloid\n",
    "20,Hepatocytes\n",
    "21,Hepatocytes\n",
    "22,Nk Cells\n",
    "23,CD4+ Cells\n",
    "24,Bi-Potent Cells\n",
    "25,Hepatocytes\n",
    "26,Endothelial Cells\n",
    "27,Endothelial Cells\n",
    "28,Mast Cells\n",
    "'''"
   ]
  },
  {
   "cell_type": "code",
   "execution_count": 12,
   "metadata": {},
   "outputs": [],
   "source": [
    "sk.labeled(adata,cluster_names=new_cluster_names,reference_key='louvain',cell_type_key='CellType')"
   ]
  },
  {
   "cell_type": "code",
   "execution_count": 13,
   "metadata": {},
   "outputs": [],
   "source": [
    "sc.pl.umap(adata,color=[\"louvain\",\"CellType\"],size=10,legend_loc=\"on data\",show=False,legend_fontoutline=3);\n",
    "export(\"UMAP\");"
   ]
  },
  {
   "cell_type": "code",
   "execution_count": 14,
   "metadata": {},
   "outputs": [],
   "source": [
    "adata.write_h5ad(f\"{OUTPUT_DIR}/adata.h5ad\",compression='lzf')"
   ]
  }
 ],
 "metadata": {
  "kernelspec": {
   "display_name": "Python 3",
   "language": "python",
   "name": "python3"
  },
  "language_info": {
   "codemirror_mode": {
    "name": "ipython",
    "version": 3
   },
   "file_extension": ".py",
   "mimetype": "text/x-python",
   "name": "python",
   "nbconvert_exporter": "python",
   "pygments_lexer": "ipython3",
   "version": "3.10.10"
  },
  "orig_nbformat": 4
 },
 "nbformat": 4,
 "nbformat_minor": 2
}
