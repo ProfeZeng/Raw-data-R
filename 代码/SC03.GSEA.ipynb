{
 "cells": [
  {
   "cell_type": "code",
   "execution_count": null,
   "metadata": {},
   "outputs": [],
   "source": [
    "from pathlib import Path\n",
    "import re\n",
    "import warnings\n",
    "import itertools\n",
    "\n",
    "import matplotlib.pyplot as plt\n",
    "import matplotlib as mpl\n",
    "import numpy as np\n",
    "import pandas as pd\n",
    "import scanpy as sc\n",
    "import seaborn as sns\n",
    "from scipy.sparse import csr_matrix\n",
    "import scipy.stats as spss\n",
    "import matplotlib_venn\n",
    "\n",
    "import bioquest as bq\n",
    "import sckit as sk"
   ]
  },
  {
   "cell_type": "code",
   "execution_count": null,
   "metadata": {},
   "outputs": [],
   "source": [
    "warnings.filterwarnings(action=\"ignore\")\n",
    "OUTPUT_DIR = \"output/SC03.GSEA\"\n",
    "Path(OUTPUT_DIR).mkdir(parents=True,exist_ok=True)\n",
    "export = sk.export(formats=('pdf',),od=OUTPUT_DIR)"
   ]
  },
  {
   "cell_type": "code",
   "execution_count": null,
   "metadata": {},
   "outputs": [],
   "source": [
    "adata = sc.read_h5ad(\"output/SC02.score/adata.h5ad\")"
   ]
  },
  {
   "cell_type": "code",
   "execution_count": null,
   "metadata": {},
   "outputs": [],
   "source": [
    "def gsea(adata,key,value,gene_sets,n_jobs=8):\n",
    "    import gseapy\n",
    "    lg=adata.obs.loc[:,key].values==value\n",
    "    adata.obs['TempGroup'] = pd.Categorical([0 if x else 1 for x in lg], categories=[0, 1], ordered=True)\n",
    "    indices = adata.obs.sort_values(['TempGroup']).index\n",
    "    adata = adata[indices,:]\n",
    "    adata.var_names=[x.upper() for x in adata.var_names]\n",
    "\n",
    "    res = gseapy.gsea(data=adata.to_df().T, # row -> genes, column-> samples\n",
    "        gene_sets=gene_sets,\n",
    "        cls=adata.obs.TempGroup,\n",
    "        permutation_num=1000,\n",
    "        permutation_type='phenotype',\n",
    "        outdir=None,\n",
    "        method='s2n', # signal_to_noise\n",
    "        threads= n_jobs)\n",
    "    \n",
    "    return res"
   ]
  },
  {
   "cell_type": "code",
   "execution_count": null,
   "metadata": {},
   "outputs": [],
   "source": [
    "alist=[]\n",
    "for x in adata.obs.CellType.cat.categories:\n",
    "    res=gsea(adata,key=\"CellType\",value=x,gene_sets=\"GO_Biological_Process_2021\")\n",
    "    df=res.res2d.sort_values(\"NES\",ascending=False).drop(columns=\"Name\")\n",
    "    df.insert(loc=0,column=\"CellType\",value=x)\n",
    "    alist.append(df)\n",
    "df = pd.concat(alist)\n",
    "df.to_csv(f\"{OUTPUT_DIR}/CellType_GOBP.csv\",index=False)"
   ]
  },
  {
   "cell_type": "code",
   "execution_count": null,
   "metadata": {},
   "outputs": [],
   "source": [
    "df=pd.read_csv(f\"{OUTPUT_DIR}/CellType_GOBP.csv\")"
   ]
  },
  {
   "cell_type": "code",
   "execution_count": null,
   "metadata": {},
   "outputs": [],
   "source": [
    "df.head(2)"
   ]
  },
  {
   "cell_type": "code",
   "execution_count": null,
   "metadata": {},
   "outputs": [],
   "source": [
    "def dotplot(frame,\n",
    "        x=\"CellType\",\n",
    "           output_dir=None,\n",
    "           fname=None,\n",
    "           gene_sets=None,\n",
    "           organism='human',\n",
    "           pvalue_threshold=1.0,\n",
    "           figsize=(6, 10),\n",
    "           top_term=6,\n",
    "           dotsize=5,\n",
    "           ):\n",
    "    import gseapy\n",
    "    if gene_sets is None:\n",
    "        gene_sets = {\"GO_Biological_Process_2021\": \"GOBP\",\n",
    "                     \"GO_Molecular_Function_2021\": \"GOMF\",\n",
    "                     \"GO_Cellular_Component_2021\": \"GOCC\",\n",
    "                     \"KEGG_{}\".format(\"2019_Mouse\" if organism == \"mouse\" else \"2021_Human\"): \"KEGG\"\n",
    "                     }\n",
    "\n",
    "    res = frame.replace(gene_sets)\n",
    "    res.loc[:, \"Term\"] = bq.st.removes(string=res.Term, pattern=r\"\\(.+\\)\")\n",
    "    ax = gseapy.dotplot(res,\n",
    "                        column=\"FDR q-val\",\n",
    "                        x='CellType',  # set x axis, so you could do a multi-sample/library comparsion\n",
    "                        size=dotsize,\n",
    "                        top_term=top_term,\n",
    "                        figsize=figsize,\n",
    "                        title='',\n",
    "                        xticklabels_rot=45,  # rotate xtick labels\n",
    "                        show_ring=False,  # set to False to revmove outer ring\n",
    "                        marker='o',\n",
    "                        )\n",
    "    ax.set_xlabel(xlabel=\"\")\n",
    "    if fname:\n",
    "        import matplotlib.pyplot as plt\n",
    "        plt.savefig(f\"{output_dir}/{fname}_enrich.pdf\",\n",
    "                    bbox_inches='tight', dpi=300)\n"
   ]
  },
  {
   "cell_type": "code",
   "execution_count": null,
   "metadata": {},
   "outputs": [],
   "source": [
    "dotplot(df,x=\"CellType\",figsize=(6, 10),dotsize=5,top_term=3,output_dir=OUTPUT_DIR,fname=\"CellType\")"
   ]
  }
 ],
 "metadata": {
  "kernelspec": {
   "display_name": "SC",
   "language": "python",
   "name": "python3"
  },
  "language_info": {
   "codemirror_mode": {
    "name": "ipython",
    "version": 3
   },
   "file_extension": ".py",
   "mimetype": "text/x-python",
   "name": "python",
   "nbconvert_exporter": "python",
   "pygments_lexer": "ipython3",
   "version": "3.10.10"
  },
  "orig_nbformat": 4
 },
 "nbformat": 4,
 "nbformat_minor": 2
}
